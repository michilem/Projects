{
 "cells": [
  {
   "cell_type": "markdown",
   "id": "2fe6cb30-f39b-4124-a06c-5b0b91e88bf9",
   "metadata": {
    "deletable": false,
    "editable": false,
    "nbgrader": {
     "cell_type": "markdown",
     "checksum": "c135472cec7435af279374792258359e",
     "grade": false,
     "grade_id": "cell-dea9e90da9624713",
     "locked": true,
     "schema_version": 3,
     "solution": false,
     "task": false
    },
    "tags": []
   },
   "source": [
    "# First assignment\n",
    "The assignment provides problems regarding basic applications of linear algebra and machine learning. Use this notebook to perform the computations and insert your comments into it. All the coding must be done in Python 3. \n",
    "\n",
    "The assignment has to be submitted individually!\n",
    "\n",
    "All your plots have to be labelled properly!  (Non-labeled plots will result in point deductions!)\n",
    "\n",
    "**Non running cells/tasks will not be considered!**\n",
    "\n",
    "The tasks/questions are 1.1), 1.2), 1.3), 1.4), 1.5), 2.1), 2.2), 2.3), 2.4), 2.5*), 2.6*), 2.7*). After each task description there is an answer cell for your code or text. For coding tasks they look like this:\n",
    "\n",
    "```\n",
    "# YOUR CODE HERE\n",
    "```\n",
    "(You can delete the \"YOUR CODE HERE\" comment, if you like.)\n",
    "\n",
    "For markdown (text) cells the response cell will include this:\n",
    "\n",
    "**WRITE YOUR ANSWER HERE**\n",
    "\n",
    "Sometimes they are followed by test cells. You can run the test cells after you finished the task. If these cells don't show any errors, your answer is right. You can't/shouldn't edit test cells!\n",
    "\n",
    "Some tasks will be graded manually (e.g. plots, text answers). They don't have a following test cell. \n",
    "\n",
    "Please make sure to hit the \"Submit\" button on the \"Assignment\" tab on the main page of python.ldv.ei.tum.de before the deadline passes. You will get your final score after the deadline.\n",
    "\n",
    "**Some tips:**\n",
    "- Only change cells with `# YOUR CODE HERE` or **WRITE YOUR ANSWER HERE**\n",
    "- Do not change cell types or the notebook name.\n",
    "- Do not add other .ipynb files into the ami23-assignments folder or subfolders.\n",
    "- Do not override the original files in the ami23-assignments folder or subfolders.\n",
    "- For every plot makes sure that axes are correctly labeled with original labels and not encoded ones. \n",
    "- If you are asked to provide multiple plots, make sure that the titles are clear. A plot should be self explanatory, we should not have to look at your code to know what is plotted. \n",
    "\n",
    "#### Date of submission: May 04th, 2023, 23:55 hrs"
   ]
  },
  {
   "cell_type": "markdown",
   "id": "175ea0dc",
   "metadata": {
    "deletable": false,
    "editable": false,
    "nbgrader": {
     "cell_type": "markdown",
     "checksum": "b83d34f39a4f18fedf7c5f6861c59ba5",
     "grade": false,
     "grade_id": "cell-abfb4afa1a6278af",
     "locked": true,
     "schema_version": 3,
     "solution": false,
     "task": false
    },
    "tags": []
   },
   "source": [
    "You will be using the \"Forest Fires\" dataset to perform basic preprocessing steps and learn about validation techniques to build a classification model.\n",
    "If you are not familiar with the abbreviations for the weather data, have a look at this source:\n",
    "https://www.nwcg.gov/publications/pms437/cffdrs/fire-weather-index-system"
   ]
  },
  {
   "cell_type": "code",
   "execution_count": 1,
   "id": "e0b16d71",
   "metadata": {
    "deletable": false,
    "editable": false,
    "nbgrader": {
     "cell_type": "code",
     "checksum": "849a09d4570f1e28d1b952f9f3ad0778",
     "grade": false,
     "grade_id": "cell-f5f83d708bab21d7",
     "locked": true,
     "schema_version": 3,
     "solution": false,
     "task": false
    },
    "tags": []
   },
   "outputs": [],
   "source": [
    "import pandas as pd\n",
    "import numpy as np\n",
    "from sklearn.compose import ColumnTransformer\n",
    "from sklearn.preprocessing import StandardScaler\n",
    "from sklearn.impute import KNNImputer\n",
    "from sklearn.preprocessing import OrdinalEncoder, OneHotEncoder\n",
    "import seaborn as sns\n",
    "import matplotlib.pyplot as plt"
   ]
  },
  {
   "cell_type": "code",
   "execution_count": 2,
   "id": "11e36b3b",
   "metadata": {
    "deletable": false,
    "editable": false,
    "nbgrader": {
     "cell_type": "code",
     "checksum": "29bc0419597258110ba9e095cb5e2ca9",
     "grade": false,
     "grade_id": "cell-46cfbd0be4152759",
     "locked": true,
     "schema_version": 3,
     "solution": false,
     "task": false
    },
    "tags": []
   },
   "outputs": [
    {
     "name": "stdout",
     "output_type": "stream",
     "text": [
      "<class 'pandas.core.frame.DataFrame'>\n",
      "RangeIndex: 517 entries, 0 to 516\n",
      "Data columns (total 13 columns):\n",
      " #   Column  Non-Null Count  Dtype  \n",
      "---  ------  --------------  -----  \n",
      " 0   X       517 non-null    int64  \n",
      " 1   Y       517 non-null    int64  \n",
      " 2   month   517 non-null    object \n",
      " 3   day     517 non-null    object \n",
      " 4   FFMC    514 non-null    float64\n",
      " 5   DMC     515 non-null    float64\n",
      " 6   DC      515 non-null    float64\n",
      " 7   ISI     516 non-null    float64\n",
      " 8   temp    517 non-null    float64\n",
      " 9   RH      516 non-null    float64\n",
      " 10  wind    516 non-null    float64\n",
      " 11  rain    517 non-null    float64\n",
      " 12  area    517 non-null    float64\n",
      "dtypes: float64(9), int64(2), object(2)\n",
      "memory usage: 52.6+ KB\n",
      "None\n",
      "\n",
      "The dataset contains the following categorical features: ['month' 'day'].\n"
     ]
    }
   ],
   "source": [
    "data = pd.read_csv(\"forestfires.csv\")\n",
    "\n",
    "print(data.info())\n",
    "\n",
    "cat_features = data.dtypes[data.dtypes == \"object\"].index.values\n",
    "\n",
    "print(f'\\nThe dataset contains the following categorical features: {cat_features}.')"
   ]
  },
  {
   "cell_type": "markdown",
   "id": "b83b1f6f",
   "metadata": {
    "deletable": false,
    "editable": false,
    "nbgrader": {
     "cell_type": "markdown",
     "checksum": "a8dbe64d76a729a7543c3b72903ac6ae",
     "grade": false,
     "grade_id": "cell-a3d5b16dde94cb4b",
     "locked": true,
     "schema_version": 3,
     "solution": false,
     "task": false
    },
    "tags": []
   },
   "source": [
    "### Task 1.1\n",
    "Perform a train-test-split on the dataset with `area` as variable of interest, `test_size=0.3` and `random_seed=42`; use the variable names `X_train`, `X_test`, `y_train`, `y_test`.\n",
    "\n",
    "*Hint: Ensure that the data is still a Pandas dataframe!*"
   ]
  },
  {
   "cell_type": "code",
   "execution_count": 3,
   "id": "355ef037",
   "metadata": {
    "deletable": false,
    "nbgrader": {
     "cell_type": "code",
     "checksum": "1d010ae39334090548b82ea4f28a24d3",
     "grade": false,
     "grade_id": "cell-548696d4fb364bf1",
     "locked": false,
     "schema_version": 3,
     "solution": true,
     "task": false
    },
    "tags": []
   },
   "outputs": [],
   "source": [
    "# YOUR CODE HERE\n",
    "from sklearn.model_selection import train_test_split\n",
    "\n",
    "X = data.loc[:, data.columns[:-1]]\n",
    "y = data.loc[:, ['area']]\n",
    "X_train, X_test, y_train, y_test = train_test_split(X, y, test_size=0.3, random_state=42)\n",
    "\n",
    "#print(X_train.info())"
   ]
  },
  {
   "cell_type": "code",
   "execution_count": null,
   "id": "305640c8",
   "metadata": {
    "deletable": false,
    "editable": false,
    "nbgrader": {
     "cell_type": "code",
     "checksum": "1b42d5bc461ce8db0d5df8e4f40ade0d",
     "grade": true,
     "grade_id": "cell-f9275637d3e847e9",
     "locked": true,
     "points": 2,
     "schema_version": 3,
     "solution": false,
     "task": false
    },
    "tags": []
   },
   "outputs": [],
   "source": []
  },
  {
   "cell_type": "markdown",
   "id": "a1474025",
   "metadata": {
    "deletable": false,
    "editable": false,
    "nbgrader": {
     "cell_type": "markdown",
     "checksum": "aa3bc3c21023a315e3e8003446ea5c22",
     "grade": false,
     "grade_id": "cell-b4313b12054b0eb2",
     "locked": true,
     "schema_version": 3,
     "solution": false,
     "task": false
    },
    "tags": []
   },
   "source": [
    "### Task 1.2\n",
    "As you might have realized there are categorical features present in the data. Now you have the choice between two different encoding methods: *ordinal* and *one-hot*. Use one of them for the column `month` and the column `day`. Set up a `ColumnTransformer()` object with the name `ct` and transform the categorical features using `OrdinalEncoder()` (named `'ordinal'`) or `OneHotEncoder()` (named `'one-hot'`).\n",
    "<br>For easier (though less efficient) further processing set the agrument `sparse=False` for the one-hot coder, if you use it, further use the setting `drop='first'`. For both encoders use the `categories` parameter with the lists given below for months and days."
   ]
  },
  {
   "cell_type": "code",
   "execution_count": 4,
   "id": "fdd4ce4b",
   "metadata": {
    "deletable": false,
    "nbgrader": {
     "cell_type": "code",
     "checksum": "c5af2e62bf844c080c19f3d37659a5a0",
     "grade": false,
     "grade_id": "cell-ecd4716f454a3a4c",
     "locked": false,
     "schema_version": 3,
     "solution": true,
     "task": false
    },
    "tags": []
   },
   "outputs": [],
   "source": [
    "months = [\"jan\", \"feb\", \"mar\", \"apr\", \"may\", \"jun\", \"jul\", \"aug\", \"sep\", \"oct\", \"nov\", \"dec\"]\n",
    "days = ['mon', 'tue','wed', 'thu','fri', 'sat', 'sun']\n",
    "\n",
    "# YOUR CODE HERE\n",
    "ordinal = OrdinalEncoder(categories = [months, days])\n",
    "\n",
    "t = [('ordinal', ordinal, ['month', 'day'])]\n",
    "ct = ColumnTransformer(transformers = t, remainder = 'passthrough', verbose_feature_names_out=False)"
   ]
  },
  {
   "cell_type": "code",
   "execution_count": null,
   "id": "8b7670f7-5e8f-4910-b5da-aef943dc4009",
   "metadata": {
    "deletable": false,
    "editable": false,
    "nbgrader": {
     "cell_type": "code",
     "checksum": "491d0aae06512887fbcc427954579bb0",
     "grade": true,
     "grade_id": "cell-c82d0021ecd700cc",
     "locked": true,
     "points": 2,
     "schema_version": 3,
     "solution": false,
     "task": false
    },
    "tags": []
   },
   "outputs": [],
   "source": []
  },
  {
   "cell_type": "markdown",
   "id": "ffca280f-92cf-4abc-b0fa-ba408f91831f",
   "metadata": {
    "deletable": false,
    "editable": false,
    "nbgrader": {
     "cell_type": "markdown",
     "checksum": "775c3c869320a5aa4a2f0642f789056a",
     "grade": false,
     "grade_id": "cell-95158109e329f1d8",
     "locked": true,
     "schema_version": 3,
     "solution": false,
     "task": false
    },
    "tags": []
   },
   "source": [
    "### Task 1.3\n",
    "Now transform the categorical features using your encoder from task 1.2! Use the name `X_train_encoded` and `X_test_encoded`for the transformed data. \n",
    "\n",
    "*Hint: Create a copy of your data, before you use the encoder! Ensure that the data is still a Pandas dataframe!*"
   ]
  },
  {
   "cell_type": "code",
   "execution_count": 5,
   "id": "188f9c57",
   "metadata": {
    "deletable": false,
    "nbgrader": {
     "cell_type": "code",
     "checksum": "63a75e393fc6c0076c04582e2c3862a1",
     "grade": false,
     "grade_id": "cell-6b52389873e227e2",
     "locked": false,
     "schema_version": 3,
     "solution": true,
     "task": false
    },
    "tags": []
   },
   "outputs": [],
   "source": [
    "# YOUR CODE HERE\n",
    "X_train_encoded = X_train.copy()\n",
    "X_test_encoded = X_test.copy()\n",
    "ct.set_output(transform='pandas')\n",
    "X_train_encoded = ct.fit_transform(X_train_encoded)\n",
    "X_test_encoded = ct.transform(X_test_encoded)\n",
    "#print(X_test_encoded.info())"
   ]
  },
  {
   "cell_type": "code",
   "execution_count": null,
   "id": "9427afaa",
   "metadata": {
    "deletable": false,
    "editable": false,
    "nbgrader": {
     "cell_type": "code",
     "checksum": "7ce7123719e19ce462a8349656b02e85",
     "grade": true,
     "grade_id": "cell-58e52d5f309db66b",
     "locked": true,
     "points": 2,
     "schema_version": 3,
     "solution": false,
     "task": false
    },
    "tags": []
   },
   "outputs": [],
   "source": []
  },
  {
   "cell_type": "markdown",
   "id": "3d76f94d",
   "metadata": {
    "deletable": false,
    "editable": false,
    "nbgrader": {
     "cell_type": "markdown",
     "checksum": "f23ab8f81411653a7156d4f93243afb7",
     "grade": false,
     "grade_id": "cell-7d53224c84bce522",
     "locked": true,
     "schema_version": 3,
     "solution": false,
     "task": false
    },
    "tags": []
   },
   "source": [
    "### Task 1.4\n",
    "Determine whether there are missing values in the train dataset. If so, use the kNN approach suggested by Kuhn & Johnson for imputation. Use sklearn's `KNNImputer()` with $k = 3$. Name your imputer object `imp`. Use the imputer  to transform your variables `X_train_encoded` and `X_test_encoded`. Name the new variables `X_train_imputed` and `X_test_imputed`!\n",
    "\n",
    "*Hint: Create a copy of your data, before you use the imputer! Ensure that the data is still a Pandas dataframe!*"
   ]
  },
  {
   "cell_type": "code",
   "execution_count": 6,
   "id": "0dfac7ba",
   "metadata": {
    "deletable": false,
    "nbgrader": {
     "cell_type": "code",
     "checksum": "43a665008e414acb8f1590d380e3f755",
     "grade": false,
     "grade_id": "cell-1cf213e75d187cad",
     "locked": false,
     "schema_version": 3,
     "solution": true,
     "task": false
    },
    "tags": []
   },
   "outputs": [],
   "source": [
    "# YOUR CODE HERE\n",
    "#X_train_encoded.isnull().sum() #-> shows a few missing values\n",
    "\n",
    "X_train_imputed = X_train_encoded.copy()\n",
    "X_test_imputed = X_test_encoded.copy()\n",
    "\n",
    "imp = KNNImputer(missing_values=np.nan, n_neighbors=3)\n",
    "imp.set_output(transform='pandas')\n",
    "\n",
    "if X_train_encoded.isnull().sum().any():\n",
    "    X_train_imputed = imp.fit_transform(X_train_imputed)\n",
    "    X_test_imputed = imp.transform(X_test_imputed)\n",
    "\n",
    "#print(X_test_imputed.info())\n",
    "#X_train_imputed.isnull().sum() #-> no more missing values"
   ]
  },
  {
   "cell_type": "code",
   "execution_count": null,
   "id": "4b1727e2",
   "metadata": {
    "deletable": false,
    "editable": false,
    "nbgrader": {
     "cell_type": "code",
     "checksum": "9015035bbc68a6b208b76d607166e6e4",
     "grade": true,
     "grade_id": "cell-b9cf1785e6afaad1",
     "locked": true,
     "points": 1,
     "schema_version": 3,
     "solution": false,
     "task": false
    },
    "tags": []
   },
   "outputs": [],
   "source": []
  },
  {
   "cell_type": "code",
   "execution_count": null,
   "id": "550c0ef9-a2f0-4623-aa81-8adf86266dad",
   "metadata": {
    "deletable": false,
    "editable": false,
    "nbgrader": {
     "cell_type": "code",
     "checksum": "edb99f27f339ea4a35135b1450e26d05",
     "grade": true,
     "grade_id": "cell-419b6272aad363c3",
     "locked": true,
     "points": 1,
     "schema_version": 3,
     "solution": false,
     "task": false
    },
    "tags": []
   },
   "outputs": [],
   "source": []
  },
  {
   "cell_type": "code",
   "execution_count": null,
   "id": "2abfede6",
   "metadata": {
    "deletable": false,
    "editable": false,
    "nbgrader": {
     "cell_type": "code",
     "checksum": "62cf1e8a4baa81e622e833f87f891154",
     "grade": true,
     "grade_id": "cell-d60c11065ecc78eb",
     "locked": true,
     "points": 2,
     "schema_version": 3,
     "solution": false,
     "task": false
    },
    "tags": []
   },
   "outputs": [],
   "source": []
  },
  {
   "cell_type": "markdown",
   "id": "3bec4eca",
   "metadata": {
    "deletable": false,
    "editable": false,
    "nbgrader": {
     "cell_type": "markdown",
     "checksum": "cedc7bde7fe6a6aad650be322a98ac19",
     "grade": false,
     "grade_id": "cell-53bde8105a2727fd",
     "locked": true,
     "schema_version": 3,
     "solution": false,
     "task": false
    },
    "tags": []
   },
   "source": [
    "### Task 1.5\n",
    "Implement a `StandardScaler` for the columns `X`, `Y`, `FFMC`, `DMC`, `DC`, `ISI`, `temp`, `RH`, `wind`, `rain` and the ordinal encoded features from 1.2 in case you have ordinal encoded features. Use the variable name `sc` for the `StandardScaler` object and name your variables `X_train_sc` and `X_test_sc` to indicate that the data was scaled.\n",
    "\n",
    "*Hint: Create a copy of your data befor you use the scaler! Ensure that the data is still a Pandas dataframe!*"
   ]
  },
  {
   "cell_type": "code",
   "execution_count": 7,
   "id": "d743feaf",
   "metadata": {
    "deletable": false,
    "nbgrader": {
     "cell_type": "code",
     "checksum": "e75960b1b03745c5c6541379031bc47b",
     "grade": false,
     "grade_id": "cell-8335f8057176885c",
     "locked": false,
     "schema_version": 3,
     "solution": true,
     "task": false
    },
    "tags": []
   },
   "outputs": [
    {
     "name": "stdout",
     "output_type": "stream",
     "text": [
      "<class 'pandas.core.frame.DataFrame'>\n",
      "Index: 361 entries, 311 to 102\n",
      "Data columns (total 12 columns):\n",
      " #   Column  Non-Null Count  Dtype  \n",
      "---  ------  --------------  -----  \n",
      " 0   X       361 non-null    float64\n",
      " 1   Y       361 non-null    float64\n",
      " 2   FFMC    361 non-null    float64\n",
      " 3   DMC     361 non-null    float64\n",
      " 4   DC      361 non-null    float64\n",
      " 5   ISI     361 non-null    float64\n",
      " 6   temp    361 non-null    float64\n",
      " 7   RH      361 non-null    float64\n",
      " 8   wind    361 non-null    float64\n",
      " 9   rain    361 non-null    float64\n",
      " 10  month   361 non-null    float64\n",
      " 11  day     361 non-null    float64\n",
      "dtypes: float64(12)\n",
      "memory usage: 36.7 KB\n",
      "None\n"
     ]
    }
   ],
   "source": [
    "# YOUR CODE HERE\n",
    "X_train_sc = X_train_imputed.copy()\n",
    "X_test_sc = X_test_imputed.copy()\n",
    "\n",
    "sc = StandardScaler()\n",
    "sc.set_output(transform='pandas')\n",
    "\n",
    "ordinal_features = ['month', 'day']\n",
    "columns_to_scale = ['X', 'Y', 'FFMC', 'DMC', 'DC', 'ISI','temp', 'RH', 'wind', 'rain'] + ordinal_features\n",
    "ct2 = ColumnTransformer(transformers=[('sc', sc, columns_to_scale)], remainder='passthrough', verbose_feature_names_out=False)\n",
    "ct2.set_output(transform='pandas')\n",
    "\n",
    "X_train_sc = ct2.fit_transform(X_train_sc)\n",
    "X_test_sc = ct2.transform(X_test_sc)\n",
    "\n",
    "print(X_train_sc.info())"
   ]
  },
  {
   "cell_type": "code",
   "execution_count": null,
   "id": "60ccd1f6-6871-4951-a315-93f07808188a",
   "metadata": {
    "deletable": false,
    "editable": false,
    "nbgrader": {
     "cell_type": "code",
     "checksum": "854b6332c4752de20f55869bd404ab17",
     "grade": true,
     "grade_id": "cell-1b2d9cd302d8c6a0",
     "locked": true,
     "points": 1,
     "schema_version": 3,
     "solution": false,
     "task": false
    },
    "tags": []
   },
   "outputs": [],
   "source": []
  },
  {
   "cell_type": "code",
   "execution_count": null,
   "id": "00d12a52-e9e1-44c5-b8d0-fe700cc2ac96",
   "metadata": {
    "deletable": false,
    "editable": false,
    "nbgrader": {
     "cell_type": "code",
     "checksum": "13d886fe80efc51c94d32e82fa0c60b4",
     "grade": true,
     "grade_id": "cell-1b2d9cd302d8c6a1",
     "locked": true,
     "points": 2,
     "schema_version": 3,
     "solution": false,
     "task": false
    },
    "tags": []
   },
   "outputs": [],
   "source": []
  },
  {
   "cell_type": "markdown",
   "id": "8cffc756",
   "metadata": {
    "deletable": false,
    "editable": false,
    "nbgrader": {
     "cell_type": "markdown",
     "checksum": "0e9d24633936a8ae73a36a3378f914fb",
     "grade": false,
     "grade_id": "cell-a9d37f80419e1c2b",
     "locked": true,
     "schema_version": 3,
     "solution": false,
     "task": false
    },
    "tags": []
   },
   "source": [
    "### Task 2.1\n",
    "The following tasks are about validation. At first, we need to decide for a model family. Use 5-fold-cross-validation to find a suitable model family out of the following (all with default settings, you can tune your model later):\n",
    "- linear regression (name it `lr`)\n",
    "- random forests (name it `rf`; will be ironic if this is the choice for a \"forest fire\" dataset)\n",
    "- decision tree (name it `dt`)\n",
    "- support vector regression (name it `svr`)\n",
    "\n",
    "<!-- -->\n",
    "\n",
    "Evaluate the performance of the models using the mean squared error.\n",
    "\n",
    "Use `random_state=42` in your cross validation object and `shuffle=True`, name it `kfold`. If you use encoder, imputer and/or scaler, name them `ct_cv`, `imp_cv` and `sc_cv`, respectively.\n",
    "\n",
    "Store the results for your models in the lists `cv_results_mean` and `cv_results_std`. The lists should contain the mean and the standard deviation of the four models across the 5 folds, i.e. each list should contain 4 values. Use the original data.\n",
    "\n",
    "*Hint: Be sure to implement the cross validation correctly. What should you do before training with the k-1 (so 4 in this case) folds?*"
   ]
  },
  {
   "cell_type": "code",
   "execution_count": 8,
   "id": "35f55d2c",
   "metadata": {
    "deletable": false,
    "nbgrader": {
     "cell_type": "code",
     "checksum": "d1efe1b727ff77bddb8e71fd10ded993",
     "grade": false,
     "grade_id": "cell-47c637d015ea3368",
     "locked": false,
     "schema_version": 3,
     "solution": true,
     "task": false
    },
    "tags": []
   },
   "outputs": [
    {
     "name": "stdout",
     "output_type": "stream",
     "text": [
      "mean CV error for each model: \n",
      " [2543.993863818403, 3081.7794467158337, 7560.836027492389, 2472.898001460231]\n",
      "std CV error for each model:\n",
      " [3498.6166111552884, 3384.6584799236825, 3378.843258830379, 3756.1888742468473]\n"
     ]
    }
   ],
   "source": [
    "from sklearn.model_selection import KFold\n",
    "from sklearn.linear_model import LinearRegression\n",
    "from sklearn.ensemble import RandomForestRegressor\n",
    "from sklearn.tree import DecisionTreeRegressor\n",
    "from sklearn.svm import SVR\n",
    "from sklearn.metrics import mean_squared_error\n",
    "from sklearn.pipeline import make_pipeline\n",
    "\n",
    "K = 5\n",
    "\n",
    "models = [\n",
    "    (\"lr\", LinearRegression()),\n",
    "    (\"rf\", RandomForestRegressor()),\n",
    "    (\"dt\", DecisionTreeRegressor()),\n",
    "    (\"svr\", SVR())\n",
    "]\n",
    "\n",
    "# Instanciate the kfold object and possible column_transformers, imputers, and scalers here\n",
    "# YOUR CODE HERE\n",
    "kfold = KFold(n_splits=5, random_state=42, shuffle=True)\n",
    "\n",
    "ordinal = OrdinalEncoder(categories = [months, days])\n",
    "ct_cv = ColumnTransformer(transformers = [('ct_cv', ordinal, ['month', 'day'])], remainder = 'passthrough', verbose_feature_names_out=False)\n",
    "ct_cv.set_output(transform='pandas')\n",
    "\n",
    "imp_cv = KNNImputer(missing_values=np.nan, n_neighbors=3)\n",
    "imp_cv.set_output(transform='pandas') \n",
    "\n",
    "sc_cv = StandardScaler()\n",
    "sc_cv.set_output(transform='pandas')\n",
    "\n",
    "ordinal_features = ['month', 'day']\n",
    "columns_to_scale = ['X', 'Y', 'FFMC', 'DMC', 'DC', 'ISI','temp', 'RH', 'wind', 'rain'] + ordinal_features\n",
    "ct2_cv = ColumnTransformer(transformers=[('sc_cv', sc_cv, columns_to_scale)], remainder='passthrough', verbose_feature_names_out=False)\n",
    "ct2_cv.set_output(transform='pandas')\n",
    "\n",
    "pipeline_preproc = make_pipeline(ct_cv, imp_cv, ct2_cv)\n",
    "\n",
    "cv_results_mean = []\n",
    "cv_results_std = []\n",
    "\n",
    "for name, model in models:\n",
    "    mse = []\n",
    "    #pipeline_preproc = make_pipeline(ct_cv, imp_cv, ct2_cv, model)\n",
    "    for train_index, validation_index in kfold.split(X_train):\n",
    "        # YOUR CODE HERE\n",
    "        X_train_cv = X_train.iloc[train_index]\n",
    "        X_valid_cv = X_train.iloc[validation_index]\n",
    "        y_train_cv = y_train.iloc[train_index]\n",
    "        y_valid_cv = y_train.iloc[validation_index]\n",
    "        \n",
    "        X_train_preproc = pipeline_preproc.fit_transform(X_train_cv)\n",
    "        X_valid_preproc = pipeline_preproc.transform(X_valid_cv)\n",
    "        \n",
    "        model.fit(X_train_preproc, y_train_cv.values.ravel())\n",
    "        y_predict_cv = model.predict(X_valid_preproc)\n",
    "        \n",
    "        # pipeline_preproc.fit(X_train_cv, y_train_cv.values.ravel())\n",
    "        # y_predict_cv = pipeline_preproc.predict(X_valid_cv)\n",
    "        \n",
    "        mse.append(mean_squared_error(y_valid_cv, y_predict_cv))\n",
    "        \n",
    "    cv_results_mean.append(np.mean(mse))\n",
    "    cv_results_std.append(np.std(mse))\n",
    "        \n",
    "print('mean CV error for each model: \\n', cv_results_mean)\n",
    "print('std CV error for each model:\\n', cv_results_std)"
   ]
  },
  {
   "cell_type": "code",
   "execution_count": null,
   "id": "62b13126",
   "metadata": {
    "deletable": false,
    "editable": false,
    "nbgrader": {
     "cell_type": "code",
     "checksum": "a7b1df0b87ba69ffffbb885136738649",
     "grade": true,
     "grade_id": "cell-24a0450aa376af2a",
     "locked": true,
     "points": 1,
     "schema_version": 3,
     "solution": false,
     "task": false
    },
    "tags": []
   },
   "outputs": [],
   "source": []
  },
  {
   "cell_type": "code",
   "execution_count": null,
   "id": "31422ae2-23dd-4ba1-9a74-f9d83e53c4c1",
   "metadata": {
    "deletable": false,
    "editable": false,
    "nbgrader": {
     "cell_type": "code",
     "checksum": "33fd6a60ce7798d18809f1ee3ea354e4",
     "grade": true,
     "grade_id": "cell-34ebb680eaa9f1ef",
     "locked": true,
     "points": 1,
     "schema_version": 3,
     "solution": false,
     "task": false
    },
    "tags": []
   },
   "outputs": [],
   "source": []
  },
  {
   "cell_type": "code",
   "execution_count": null,
   "id": "94a0c8fc",
   "metadata": {
    "deletable": false,
    "editable": false,
    "nbgrader": {
     "cell_type": "code",
     "checksum": "248bee10c4fef610239cf6f3b7f53bfb",
     "grade": true,
     "grade_id": "cell-72f2def7bdbdcd58",
     "locked": true,
     "points": 1,
     "schema_version": 3,
     "solution": false,
     "task": false
    },
    "tags": []
   },
   "outputs": [],
   "source": []
  },
  {
   "cell_type": "code",
   "execution_count": null,
   "id": "c108471d",
   "metadata": {
    "deletable": false,
    "editable": false,
    "nbgrader": {
     "cell_type": "code",
     "checksum": "254ebe4d9ae829bed01c2af22c35202d",
     "grade": true,
     "grade_id": "cell-a2add8189dd4ceb5",
     "locked": true,
     "points": 2,
     "schema_version": 3,
     "solution": false,
     "task": false
    },
    "tags": []
   },
   "outputs": [],
   "source": []
  },
  {
   "cell_type": "markdown",
   "id": "971ad2ee",
   "metadata": {
    "deletable": false,
    "editable": false,
    "nbgrader": {
     "cell_type": "markdown",
     "checksum": "c2c4cc7dde3c57c58499a8b07bebb1be",
     "grade": false,
     "grade_id": "cell-0ce6a913920784ff",
     "locked": true,
     "schema_version": 3,
     "solution": false,
     "task": false
    },
    "tags": []
   },
   "source": [
    "### Task 2.2\n",
    "One thing we have not looked at is if there is skewness in our data. Use a histogram to visualize the burned area (`y_train`).\n",
    "\n",
    "Additionally, you can also have a look at our other features (voluntarily)"
   ]
  },
  {
   "cell_type": "code",
   "execution_count": 9,
   "id": "f91d92f2",
   "metadata": {
    "deletable": false,
    "nbgrader": {
     "cell_type": "code",
     "checksum": "e7deaed24f67f6f5c17d123e91f54a17",
     "grade": true,
     "grade_id": "cell-cd76e6aa1ed0106e",
     "locked": false,
     "points": 1,
     "schema_version": 3,
     "solution": true,
     "task": false
    },
    "tags": []
   },
   "outputs": [
    {
     "data": {
      "image/png": "[encoded data removed]",
      "text/plain": [
       "<Figure size 640x480 with 1 Axes>"
      ]
     },
     "metadata": {},
     "output_type": "display_data"
    }
   ],
   "source": [
    "# YOUR CODE HERE\n",
    "plt.hist(y_train, bins=20)\n",
    "plt.title('Histogram of the burned area')\n",
    "plt.ylabel('Number of Occurences')\n",
    "plt.xlabel('Burned Area')\n",
    "plt.show()"
   ]
  },
  {
   "cell_type": "markdown",
   "id": "05a56040",
   "metadata": {
    "deletable": false,
    "editable": false,
    "nbgrader": {
     "cell_type": "markdown",
     "checksum": "2593487dac64300f44663a79b5d43b99",
     "grade": false,
     "grade_id": "cell-29e76003b8d8ffca",
     "locked": true,
     "schema_version": 3,
     "solution": false,
     "task": false
    },
    "tags": []
   },
   "source": [
    "### Task 2.3\n",
    "\n",
    "For skewed data we can use a logarithm transform $x_{transformed} = ln(x + 1)$. Use a `FunctionTransformer` to transform `y_train`. Name your variable `y_train_tf`."
   ]
  },
  {
   "cell_type": "code",
   "execution_count": 10,
   "id": "4d5532db",
   "metadata": {
    "deletable": false,
    "nbgrader": {
     "cell_type": "code",
     "checksum": "8dce8a69d9a55669ef53b9b5e6c69386",
     "grade": false,
     "grade_id": "cell-e88474fb150baf75",
     "locked": false,
     "schema_version": 3,
     "solution": true,
     "task": false
    },
    "tags": []
   },
   "outputs": [],
   "source": [
    "# YOUR CODE HERE\n",
    "from sklearn.preprocessing import FunctionTransformer\n",
    "ft = FunctionTransformer(np.log1p)\n",
    "y_train_tf = ft.transform(y_train)\n",
    "# plt.hist(y_train_tf, bins=20)\n",
    "# plt.title('Histogram of the burned area')\n",
    "# plt.show()"
   ]
  },
  {
   "cell_type": "code",
   "execution_count": null,
   "id": "e8752f36",
   "metadata": {
    "deletable": false,
    "editable": false,
    "nbgrader": {
     "cell_type": "code",
     "checksum": "a63a4f9dd4c4fadf0951ae7869c1d69b",
     "grade": true,
     "grade_id": "cell-13de3bfea8934161",
     "locked": true,
     "points": 2,
     "schema_version": 3,
     "solution": false,
     "task": false
    },
    "tags": []
   },
   "outputs": [],
   "source": []
  },
  {
   "cell_type": "markdown",
   "id": "c5886f5e",
   "metadata": {
    "deletable": false,
    "editable": false,
    "nbgrader": {
     "cell_type": "markdown",
     "checksum": "48b1d65b90b2702b42ff4e75f3c5d7a8",
     "grade": false,
     "grade_id": "cell-81f573e3c94e10d5",
     "locked": true,
     "schema_version": 3,
     "solution": false,
     "task": false
    },
    "tags": []
   },
   "source": [
    "### Task 2.4\n",
    "Repeat task 2.1 with your transformed target variable `y_train_tf`. What do you observe? Store the results in `cv_results_mean_tf` and `cv_results_std_tf`."
   ]
  },
  {
   "cell_type": "code",
   "execution_count": 11,
   "id": "53001fe2",
   "metadata": {
    "deletable": false,
    "nbgrader": {
     "cell_type": "code",
     "checksum": "4f47f27c1165ef59b38cd56129103f63",
     "grade": false,
     "grade_id": "cell-3a02453840c2c32c",
     "locked": false,
     "schema_version": 3,
     "solution": true,
     "task": false
    },
    "tags": []
   },
   "outputs": [
    {
     "name": "stdout",
     "output_type": "stream",
     "text": [
      "mean CV error for each model: \n",
      " [2.5221844211609317, 2.3087367609823812, 4.187609557883274, 2.284216944154569]\n",
      "std CV error for each model: \n",
      " [1.0527665018263603, 0.4357410060082443, 0.5888497444061149, 0.40846191132565446]\n"
     ]
    }
   ],
   "source": [
    "K = 5\n",
    "\n",
    "models = [\n",
    "    (\"lr\", LinearRegression()),\n",
    "    (\"rf\", RandomForestRegressor()),\n",
    "    (\"dt\", DecisionTreeRegressor()),\n",
    "    (\"svr\", SVR())\n",
    "]\n",
    "\n",
    "# Instanciate the kfold object and possible column_transformers, imputers, and scalers here\n",
    "# YOUR CODE HERE\n",
    "kfold = KFold(n_splits=5, random_state=42, shuffle=True)\n",
    "\n",
    "ordinal = OrdinalEncoder(categories = [months, days])\n",
    "ct_tf = ColumnTransformer(transformers = [('ct_tf', ordinal, ['month', 'day'])], remainder = 'passthrough', verbose_feature_names_out=False)\n",
    "ct_tf.set_output(transform='pandas')\n",
    "\n",
    "imp_tf = KNNImputer(missing_values=np.nan, n_neighbors=3)\n",
    "imp_tf.set_output(transform='pandas') \n",
    "\n",
    "sc_tf = StandardScaler()\n",
    "sc_tf.set_output(transform='pandas')\n",
    "\n",
    "ordinal_features = ['month', 'day']\n",
    "columns_to_scale = ['X', 'Y', 'FFMC', 'DMC', 'DC', 'ISI','temp', 'RH', 'wind', 'rain'] + ordinal_features\n",
    "ct2_tf = ColumnTransformer(transformers=[('sc_tf', sc_tf, columns_to_scale)], remainder='passthrough', verbose_feature_names_out=False)\n",
    "ct2_tf.set_output(transform='pandas')\n",
    "\n",
    "pipeline_preproc = make_pipeline(ct_tf, imp_tf, ct2_tf)\n",
    "\n",
    "cv_results_mean_tf = []\n",
    "cv_results_std_tf = []\n",
    "\n",
    "for name, model in models:\n",
    "    mse = []\n",
    "    for train_index, validation_index in kfold.split(X_train):\n",
    "        # YOUR CODE HERE\n",
    "        X_train_cv = X_train.iloc[train_index]\n",
    "        X_valid_cv = X_train.iloc[validation_index]\n",
    "        y_train_cv_tf = y_train_tf.iloc[train_index]\n",
    "        y_valid_cv_tf = y_train_tf.iloc[validation_index]\n",
    "        \n",
    "        X_train_preproc = pipeline_preproc.fit_transform(X_train_cv)\n",
    "        X_valid_preproc = pipeline_preproc.transform(X_valid_cv)\n",
    "        \n",
    "        model.fit(X_train_preproc, y_train_cv_tf.values.ravel())\n",
    "        y_predict_cv = model.predict(X_valid_preproc)\n",
    "        \n",
    "        mse.append(mean_squared_error(y_valid_cv_tf, y_predict_cv))\n",
    "        \n",
    "    cv_results_mean_tf.append(np.mean(mse))\n",
    "    cv_results_std_tf.append(np.std(mse))\n",
    "        \n",
    "print('mean CV error for each model: \\n', cv_results_mean_tf)\n",
    "print('std CV error for each model: \\n', cv_results_std_tf)"
   ]
  },
  {
   "cell_type": "code",
   "execution_count": null,
   "id": "d4e09370",
   "metadata": {
    "deletable": false,
    "editable": false,
    "nbgrader": {
     "cell_type": "code",
     "checksum": "5cb54a55c835d6a7211bbc8877d0c521",
     "grade": true,
     "grade_id": "cell-84f4ef2adf402350",
     "locked": true,
     "points": 2,
     "schema_version": 3,
     "solution": false,
     "task": false
    },
    "tags": []
   },
   "outputs": [],
   "source": []
  },
  {
   "cell_type": "code",
   "execution_count": null,
   "id": "2fecc561-0a90-471b-a483-36b6ca18b5b6",
   "metadata": {
    "deletable": false,
    "editable": false,
    "nbgrader": {
     "cell_type": "code",
     "checksum": "f69d5ca3d1dcb2e70587c6b7e9521ce4",
     "grade": true,
     "grade_id": "cell-bcadc41d2968a2a0",
     "locked": true,
     "points": 1,
     "schema_version": 3,
     "solution": false,
     "task": false
    },
    "tags": []
   },
   "outputs": [],
   "source": []
  },
  {
   "cell_type": "markdown",
   "id": "92eb6c9d",
   "metadata": {
    "deletable": false,
    "editable": false,
    "nbgrader": {
     "cell_type": "markdown",
     "checksum": "5278ab5a07d75722f816710800938235",
     "grade": false,
     "grade_id": "cell-e3a30e9d536dd0e9",
     "locked": true,
     "schema_version": 3,
     "solution": false,
     "task": false
    },
    "tags": []
   },
   "source": [
    "What you learned in this assignment is how to use basic preprocessing, feature selection techniques and how to perform a cross-validation. However, the forest fire dataset is a complex dataset and we still used only the default configurations of our models.<br>\n",
    "\n",
    "**The last tasks (2.5 - 2.7) are not mandatory!**<br>\n",
    "The points that you can collect there will be added to your total point count. If you mess up other tasks, it might come in handy in the end :)\n",
    "\n",
    "As you noticed, setting up all the pre-processing steps can get quite complex. To ease this process and make it more re-usable, sklearn provides the cool concept of pipelines, which you can use in the following tasks.\n",
    "\n",
    "Here are some useful links on sklearn's pipelines:\n",
    "- https://scikit-learn.org/stable/modules/generated/sklearn.pipeline.Pipeline.html\n",
    "- https://towardsdatascience.com/step-by-step-tutorial-of-sci-kit-learn-pipeline-62402d5629b6\n",
    "- https://medium.com/@gustavorsantos/a-basic-introduction-to-pipelines-in-scikit-learn-bd4cee34ad95?source=email-11ed8409e3e9-1682211838023-digest.reader-7f60cf5620c9-bd4cee34ad95----0-59------------------39e746ff_2651_496e_bba6_d94bd9e065bf-1"
   ]
  },
  {
   "cell_type": "markdown",
   "id": "43dcefa3",
   "metadata": {
    "deletable": false,
    "editable": false,
    "nbgrader": {
     "cell_type": "markdown",
     "checksum": "569a0fd769051bed7a9c756bcb166920",
     "grade": false,
     "grade_id": "cell-73f54fb008c6089e",
     "locked": true,
     "schema_version": 3,
     "solution": false,
     "task": false
    },
    "tags": []
   },
   "source": [
    "### Task 2.5* BONUS\n",
    "Decide for one of the previous 4 models. \n",
    "To find the (hopefully) best parameters, perform a grid search using `GridSearchCV` for your chosen model and store it in the variable `gs_cv`. Decide for a meaningful parameter grid yourself. Use `scoring='neg_mean_squared_error'`.\n",
    "\n",
    "<br>Because you share the resources with other students, we need to constrain your GridSearch a little bit: Be economical with the parameters. For instance, if you train a SVR, choose only 2 kernels and a total of 8 other parameters."
   ]
  },
  {
   "cell_type": "code",
   "execution_count": 12,
   "id": "f53633e7",
   "metadata": {
    "deletable": false,
    "nbgrader": {
     "cell_type": "code",
     "checksum": "7f48225a69245d7346e0402c00f2bf92",
     "grade": false,
     "grade_id": "cell-1804112b1b12a992",
     "locked": false,
     "schema_version": 3,
     "solution": true,
     "task": false
    },
    "tags": []
   },
   "outputs": [
    {
     "name": "stdout",
     "output_type": "stream",
     "text": [
      "Best hyperparameters: {'SVR__C': 100, 'SVR__epsilon': 2.0, 'SVR__kernel': 'rbf'}\n",
      "Best score: -2434.737782260068\n"
     ]
    }
   ],
   "source": [
    "from sklearn.model_selection import GridSearchCV\n",
    "from sklearn.pipeline import Pipeline\n",
    "\n",
    "# perform the GridSearch here\n",
    "# YOUR CODE HERE\n",
    "kfold = KFold(n_splits=5, random_state=42, shuffle=True)\n",
    "\n",
    "ordinal = OrdinalEncoder(categories = [months, days])\n",
    "ct_cv = ColumnTransformer(transformers = [('ct_cv', ordinal, ['month', 'day'])], remainder = 'passthrough', verbose_feature_names_out=False)\n",
    "ct_cv.set_output(transform='pandas')\n",
    "\n",
    "imp_cv = KNNImputer(missing_values=np.nan, n_neighbors=3)\n",
    "imp_cv.set_output(transform='pandas') \n",
    "\n",
    "sc_cv = StandardScaler()\n",
    "sc_cv.set_output(transform='pandas')\n",
    "\n",
    "ordinal_features = ['month', 'day']\n",
    "columns_to_scale = ['X', 'Y', 'FFMC', 'DMC', 'DC', 'ISI','temp', 'RH', 'wind', 'rain'] + ordinal_features\n",
    "ct2_cv = ColumnTransformer(transformers=[('sc_cv', sc_cv, columns_to_scale)], remainder='passthrough', verbose_feature_names_out=False)\n",
    "ct2_cv.set_output(transform='pandas')\n",
    "\n",
    "svr = SVR()\n",
    "\n",
    "pipe = Pipeline([('ct_cv_gs', ct_cv), ('imp_cv_gs', imp_cv), ('sc_cv_gs', ct2_cv), ('SVR', svr)])\n",
    "\n",
    "param_grid = {\n",
    "    'SVR__C': [0.1, 1, 10, 100],\n",
    "    'SVR__kernel': ['linear', 'rbf'],\n",
    "    'SVR__epsilon': [0.1, 1.0, 2.0]\n",
    "}\n",
    "\n",
    "gs_cv = GridSearchCV(pipe, param_grid, scoring='neg_mean_squared_error', cv=kfold)\n",
    "gs_cv.fit(X_train, y_train.values.ravel())\n",
    "\n",
    "\n",
    "\n",
    "print(\"Best hyperparameters:\", gs_cv.best_params_)\n",
    "print(\"Best score:\", gs_cv.best_score_)"
   ]
  },
  {
   "cell_type": "code",
   "execution_count": null,
   "id": "4d76e591-fdc3-4f95-8541-30bb01af3f9d",
   "metadata": {
    "deletable": false,
    "editable": false,
    "nbgrader": {
     "cell_type": "code",
     "checksum": "6f1fa8f076f1ba7aab0e9ea4ee081c69",
     "grade": true,
     "grade_id": "cell-3391230516d761a5",
     "locked": true,
     "points": 2,
     "schema_version": 3,
     "solution": false,
     "task": false
    },
    "tags": []
   },
   "outputs": [],
   "source": []
  },
  {
   "cell_type": "code",
   "execution_count": null,
   "id": "786436e8-a1a9-4187-96f5-f9131853f00f",
   "metadata": {
    "deletable": false,
    "editable": false,
    "nbgrader": {
     "cell_type": "code",
     "checksum": "1b77249cfd183f539d91d0cb6de11251",
     "grade": true,
     "grade_id": "cell-06f46307030374a5",
     "locked": true,
     "points": 1,
     "schema_version": 3,
     "solution": false,
     "task": false
    },
    "tags": []
   },
   "outputs": [],
   "source": []
  },
  {
   "cell_type": "markdown",
   "id": "e575db57",
   "metadata": {
    "deletable": false,
    "editable": false,
    "nbgrader": {
     "cell_type": "markdown",
     "checksum": "82d7e8f434481a822d03d98ded047510",
     "grade": false,
     "grade_id": "cell-eda28fb115f6294c",
     "locked": true,
     "schema_version": 3,
     "solution": false,
     "task": false
    },
    "tags": []
   },
   "source": [
    "### Task 2.6* BONUS\n",
    "Instanciate your final model with the best parameters and store it in the variable `final_model`. Fit it on the `X_train_sc` dataset from task 1 and `y_train`. Then calculate the MSE on the test set by using `X_test_sc` and `y_test` and store the MSE value to the variable `final_mse`!"
   ]
  },
  {
   "cell_type": "code",
   "execution_count": 13,
   "id": "029fa0ef",
   "metadata": {
    "deletable": false,
    "nbgrader": {
     "cell_type": "code",
     "checksum": "f44bc8d2dfccdc42ef154aab13ee09c7",
     "grade": false,
     "grade_id": "cell-3ff6053b4498c793",
     "locked": false,
     "schema_version": 3,
     "solution": true,
     "task": false
    },
    "tags": []
   },
   "outputs": [
    {
     "name": "stdout",
     "output_type": "stream",
     "text": [
      "8089.301907165065\n"
     ]
    }
   ],
   "source": [
    "# define the model you choose based on your gridsearch here and fit the model with the whole training set.\n",
    "final_model = SVR(C=gs_cv.best_params_['SVR__C'], epsilon=gs_cv.best_params_['SVR__epsilon'], kernel=gs_cv.best_params_['SVR__kernel'])\n",
    "# YOUR CODE HERE\n",
    "final_model.fit(X_train_sc, y_train.values.ravel())\n",
    "y_test_predict = final_model.predict(X_test_sc)\n",
    "final_mse = mean_squared_error(y_test, y_test_predict)\n",
    "print(final_mse)"
   ]
  },
  {
   "cell_type": "code",
   "execution_count": null,
   "id": "1ecb05a9",
   "metadata": {
    "deletable": false,
    "editable": false,
    "nbgrader": {
     "cell_type": "code",
     "checksum": "f4356de8725d97d0bdddf10b5e29116a",
     "grade": true,
     "grade_id": "cell-bde3da1856aa350b",
     "locked": true,
     "points": 1,
     "schema_version": 3,
     "solution": false,
     "task": false
    },
    "tags": []
   },
   "outputs": [],
   "source": []
  },
  {
   "cell_type": "markdown",
   "id": "c36c0759-d430-457f-83f9-daeb68db5226",
   "metadata": {
    "deletable": false,
    "editable": false,
    "nbgrader": {
     "cell_type": "markdown",
     "checksum": "3e3c8c1ef1e3b0e388fa71c65c4c16a3",
     "grade": false,
     "grade_id": "cell-2ad05714fc4c5fa0",
     "locked": true,
     "schema_version": 3,
     "solution": false,
     "task": false
    },
    "tags": []
   },
   "source": [
    "### Task 2.7* BONUS\n",
    "Why did we instruct you to use the `drop='first'` setting for the one-hot encoder in task 1.2? Take into your consideration the list of models from task 2!"
   ]
  },
  {
   "cell_type": "markdown",
   "id": "1a9703e7-8d60-4880-9674-3946a3b878d0",
   "metadata": {
    "deletable": false,
    "nbgrader": {
     "cell_type": "markdown",
     "checksum": "0d057734f01a10a8171fe89eb77cb0c1",
     "grade": true,
     "grade_id": "cell-54b1d7af03c951d1",
     "locked": false,
     "points": 2,
     "schema_version": 3,
     "solution": true,
     "task": false
    },
    "tags": []
   },
   "source": [
    "The models from task 2 include the Linear Regression Model, which would result in a problem when the features are colinear. The instuction to use drop='first' aims to prevent these problems by dropping the first category in each feature.  "
   ]
  }
 ],
 "metadata": {
  "kernelspec": {
   "display_name": "Python 3 (ipykernel)",
   "language": "python",
   "name": "python3"
  },
  "language_info": {
   "codemirror_mode": {
    "name": "ipython",
    "version": 3
   },
   "file_extension": ".py",
   "mimetype": "text/x-python",
   "name": "python",
   "nbconvert_exporter": "python",
   "pygments_lexer": "ipython3",
   "version": "3.10.10"
  }
 },
 "nbformat": 4,
 "nbformat_minor": 5
}
