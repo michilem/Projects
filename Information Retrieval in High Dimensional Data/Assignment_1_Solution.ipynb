{
 "cells": [
  {
   "cell_type": "markdown",
   "metadata": {
    "id": "EnVUWfVZaCQU"
   },
   "source": [
    "**GROUP 19**\n",
    "\n",
    " Nicolò Bruna 03755518 <br>\n",
    " Bogac Ünver 03714949 <br>\n",
    " Michael Lemanov 03766090 <br>\n",
    " Gamze Naz Kiprit 03692541 <br>\n",
    " Konstantinos Larintzakis 03716459 <br>\n",
    " Volkan Arsan 03709328 <br>\n",
    " Ivan Nikolovski 03717921 <br>\n",
    " Karahan Yilmazer 03717524"
   ]
  },
  {
   "cell_type": "markdown",
   "metadata": {
    "id": "3rr2EQZU42me"
   },
   "source": [
    "# Assignment 1"
   ]
  },
  {
   "cell_type": "code",
   "execution_count": 18,
   "metadata": {
    "id": "z0uqMS5L6QcJ"
   },
   "outputs": [],
   "source": [
    "import numpy as np\n",
    "import matplotlib.pyplot as plt"
   ]
  },
  {
   "cell_type": "markdown",
   "metadata": {
    "id": "RbIjP9cr49ii"
   },
   "source": [
    "## Task 1"
   ]
  },
  {
   "cell_type": "markdown",
   "metadata": {
    "id": "2xbEvjDUCvwD"
   },
   "source": [
    "**Part 1**\n",
    "\n",
    "$\\mathcal{C}_{d}=\\{\\mathbf{x}\\in \\mathbb{R}^{p} | \\|x\\|_{\\infty} \\le \\frac{d}{2}\\}$ describes a hypercube with length $d$. The random variable $X$ is uniformly distributed in $\\mathcal{C}_{1}$. We want to determine $d$ in dependence of $p$\n",
    "and $q\\in [0, 1]$, such that\n",
    "\n",
    "<div style=\"text-align: center\">$\\text{Pr}(\\text{X}\\in \\mathcal{C}_{d})=q ~.$</div>\n",
    "\n",
    "We consider two cases.\n",
    "\n",
    "1. If $q=1$ then the hypercube $\\mathcal{C}_{d}$ should be a superset of $\\mathcal{C}_{1}$, i.e. $\\mathcal{C}_{1}\\subseteq \\mathcal{C}_{d}$. Hence, we get for this case that $d\\ge1$.\n",
    "\n",
    "\n",
    "2. If $q\\in[0,1) ~\\Rightarrow ~d<1$ and we have\n",
    "<div style=\"text-align: center\">$\\text{Pr}(\\text{X}\\in \\mathcal{C}_{d})=q~\\Leftrightarrow$</div>\n",
    "<br>\n",
    "<div style=\"text-align: center\">$\\frac{d^{p}}{1^{p}}=q~\\Leftrightarrow$</div>\n",
    "<br>\n",
    "<div style=\"text-align: center\">$d^{p}=q ~\\Leftrightarrow$</div>\n",
    "<br>\n",
    "<div style=\"text-align: center\">$d=\\sqrt[\\uproot{3}p]{q}~\\Leftrightarrow$  .</div>"
   ]
  },
  {
   "cell_type": "code",
   "execution_count": null,
   "metadata": {},
   "outputs": [],
   "source": []
  },
  {
   "cell_type": "markdown",
   "metadata": {
    "id": "a5fgtRmsCvwF"
   },
   "source": [
    "**Part 2**\n",
    "\n",
    "We have the $p$-dimensional random variable $X^{p}$, where $X_{i}$ are independent and identically distributed $\\forall ~i=1,...,p$. We know that\n",
    "\n",
    "<br>\n",
    "<div style=\"text-align: center\">$\\text{Pr}(|X^{1}|\\leq 2.576)=0.99 ~.$</div>\n",
    "\n",
    "Our goal is to determine $\\text{Pr}(\\|X^{p}\\|_{\\infty}> 2.576)$. We have that\n",
    "\n",
    "<br>\n",
    "<div style=\"text-align: center\">$\\text{Pr}(\\|X^{p}\\|_{\\infty}> 2.576) ~=$</div>\n",
    "<br>\n",
    "<div style=\"text-align: center\">$1 - \\text{Pr}(\\|X^{p}\\|_{\\infty}\\leq 2.576) ~=$</div>\n",
    "<br>\n",
    "<div style=\"text-align: center\">$1 - \\text{Pr}(|X_{i}|\\leq 2.576 ~| ~\\forall ~i=1,...,p) ~.$</div>\n",
    "\n",
    "Because the indivual components $X_{i}$ are independent and identically distributed we get\n",
    "\n",
    "<br>\n",
    "<div style=\"text-align: center\">$1 - \\text{Pr}(|X^{1}|\\leq 2.576)^{p} ~=$</div>\n",
    "<br>\n",
    "<div style=\"text-align: center\">$1 - 0.99^{p} ~.$</div>\n",
    "\n",
    "For $p=2$: $~\\text{Pr}(\\|X^{2}\\|_{\\infty}> 2.576) = 0.0199$.\n",
    "<br>\n",
    "\n",
    "For $p=3$: $~\\text{Pr}(\\|X^{3}\\|_{\\infty}> 2.576) = 0.029701$.\n",
    "<br>\n",
    "\n",
    "For $p=500$: $~\\text{Pr}(\\|X^{500}\\|_{\\infty}> 2.576) = 0.99342951695$."
   ]
  },
  {
   "cell_type": "markdown",
   "metadata": {
    "id": "ax3YYlhI5Dn-"
   },
   "source": [
    "# Task 2\n"
   ]
  },
  {
   "cell_type": "markdown",
   "metadata": {
    "id": "8UNATPRo-TPJ"
   },
   "source": [
    "Sample 100 vectors of size d, with components in [-1, 1]"
   ]
  },
  {
   "cell_type": "code",
   "execution_count": 19,
   "metadata": {
    "id": "MlNi6kO65aWd"
   },
   "outputs": [],
   "source": [
    "def sample_vectors(d, num_samples):\n",
    "    samples = np.random.uniform(-1,1,(d,num_samples))\n",
    "    return samples"
   ]
  },
  {
   "cell_type": "code",
   "execution_count": 20,
   "metadata": {
    "colab": {
     "base_uri": "https://localhost:8080/"
    },
    "id": "VSHEt5io8E63",
    "outputId": "2314eab2-e8ec-405b-c85c-b69c5c35427e"
   },
   "outputs": [],
   "source": [
    "def get_mean_min_angle(samples):\n",
    "    min_angles = np.zeros((samples.shape[1],))\n",
    "    for i in range(samples.shape[1]):\n",
    "        min_angle = 99999999\n",
    "        for j in range(samples.shape[1]):\n",
    "            if not i == j:\n",
    "                angle = np.arccos(np.dot(samples[:,i], samples[:,j])\n",
    "                                  /(np.linalg.norm(samples[:,i])\n",
    "                                    *np.linalg.norm(samples[:,j])))\n",
    "                if angle < min_angle:\n",
    "                    min_angle = angle\n",
    "        min_angles[i] = min_angle\n",
    "    mean_min_angle = np.mean(min_angles)\n",
    "    return mean_min_angle"
   ]
  },
  {
   "cell_type": "code",
   "execution_count": 21,
   "metadata": {
    "colab": {
     "base_uri": "https://localhost:8080/",
     "height": 899
    },
    "id": "nDOLwWNRTPP5",
    "outputId": "a18f5fc8-7d94-4f73-8bfd-7cc353de1b9b"
   },
   "outputs": [],
   "source": [
    "d_vec = [i for i in range(1,1000)]\n",
    "num_samples = 100\n",
    "angle_vec = np.zeros((len(d_vec),))\n",
    "for i in range(len(d_vec)):\n",
    "    samples = sample_vectors(d_vec[i], num_samples)\n",
    "    mean_min_angle = get_mean_min_angle(samples)\n",
    "    angle_vec[i] = mean_min_angle\n",
    "    \n"
   ]
  },
  {
   "cell_type": "code",
   "execution_count": 22,
   "metadata": {},
   "outputs": [
    {
     "data": {
      "image/png": "[encoded data removed]",
      "text/plain": [
       "<Figure size 1500x1500 with 1 Axes>"
      ]
     },
     "metadata": {},
     "output_type": "display_data"
    }
   ],
   "source": [
    "# Plotting\n",
    "fig, ax = plt.subplots(figsize=(15,15))\n",
    "\n",
    "plt.title(\"Average of Minimum Angles in all Dimensions\")\n",
    "ax.set_ylabel(\"angle [°]\")\n",
    "ax.set_xlabel(\" # dimensions\")\n",
    "\n",
    "\n",
    "ax.plot(d_vec, np.degrees(angle_vec))\n",
    "plt.show()"
   ]
  },
  {
   "cell_type": "markdown",
   "metadata": {},
   "source": [
    "* For 2 randomly sampled vectors, their angular distance increases with the number of dimensions $d$.\n",
    "We can notice from the graph that we reach convergence, this means that the number of samples is denser in the corners of the unit-cube with dimension $d$. Another meaning that we can give to the convergence is that if we take two randomly sampled vectors they are getting more and more equidistant, from the respective nearest neighbours in the high dimensional space (making distance-based classifiers unusable in such high-dimensional space)"
   ]
  },
  {
   "cell_type": "markdown",
   "metadata": {
    "id": "KH6njQII9PXK"
   },
   "source": [
    "* When we increase the number of samples the minimum angles fluctuations decreases, and the angle tends to covergence at 90°, resulting in orthogonality between vectors. We can conclude the same by looking at the increasing number of dimensions. This proves that the data points are getting more and more equidistant when d increases."
   ]
  },
  {
   "cell_type": "markdown",
   "metadata": {
    "id": "F5VSO8UpAW_f"
   },
   "source": [
    "## Task 3"
   ]
  },
  {
   "cell_type": "markdown",
   "metadata": {
    "id": "SnNepNzt5If_"
   },
   "source": [
    "**Part 1** The table represented in Figure 1 is a table of probabilities because the values are all positive and if we sum them all we get the value of 1.\n",
    "\n"
   ]
  },
  {
   "cell_type": "markdown",
   "metadata": {
    "id": "1Fi5FZLQzU-Y"
   },
   "source": [
    "**Part 2** When  X=2 we have the following conditional probability distribution:\n",
    "\n",
    "$ p(Y | X=2) =\n",
    "\\begin{cases}\n",
    "  40/59, \\text{ Y = 1 }\\\\  \n",
    "  14/59, \\text{ Y = 2}  \\\\\n",
    "  5/59,  \\text { Y = 3} \n",
    "\\end{cases}$\n",
    "\n",
    "The conditional expectation will then be \n",
    "\n",
    "$\n",
    "\\sum\\limits_{y=0}^3 (y * p(Y | X=2) )\n",
    "= 1*40/59 + 2*14/59 + 3*5/59 \n",
    "= 1.4067\n",
    "$\n",
    "\n",
    "For the second part we have \n",
    "$\n",
    "P( X=1 | Y=3) = \\frac {P(X=1,Y=3)}{P (Y =3)} \n",
    "$\n",
    "\n",
    "From the probability table, we see that $P(Y=3) = 0.18$ and $P(X=1,Y=3) = 0.13$,\n",
    "\n",
    "Therefore the result becomes\n",
    "$P( X=1 | Y=3) = 0.13/0.18 = 13/18 = 0.722 $\n"
   ]
  },
  {
   "cell_type": "markdown",
   "metadata": {
    "id": "YZXxvnFy9vdv"
   },
   "source": [
    "**Part 3** The function p(x, y) given by\n",
    "\n",
    "$ p(x, y) =\n",
    "\\begin{cases}\n",
    "  1 \\text{ for }0\\le x<1, 0\\leq y\\\\  \n",
    "  0 \\text{ otherwise.}  \n",
    "\\end{cases}$\n",
    "\n",
    "is not a joint density function for two random variables as the integral from -inf to +inf results in 0.5 which is smaller than 1, as shown below \n",
    "\n",
    "$ P(x)=\\int^\\frac{1}{2}_{0}\\int^1_{0} 1 dxdy = \\frac{1}{2} $"
   ]
  },
  {
   "cell_type": "markdown",
   "metadata": {
    "id": "dWaof7gU_9Wc"
   },
   "source": [
    "**Part 4** For the marginal probability density of X, we integrate $P(x,y)$ w.r.t y over the integration boundaries $[x,\\infty]$\n",
    "\n",
    "$ P(x)=\\int^\\infty_{x} 2e^{-(x+y)} dy$  \n",
    "$ P(x)=-2e^{-x}e^{-y}|^\\infty_x$\n",
    "$ = -2e^{-x}(e^{-\\infty}-e^{-x})$\n",
    "$ =2e^{-2x}$\n",
    "\n",
    "For the marginal probability density of Y, we do the integration over the boundaries $[0,y]$\n",
    "\n",
    "$ P(y)=\\int^y_{0} 2e^{-(x+y)} dx$  \n",
    "$ P(y)=-2e^{-y}e^{-x}|^y_0$\n",
    "$ =2e^{-y}(1-e^{-y})$"
   ]
  },
  {
   "cell_type": "markdown",
   "metadata": {
    "id": "yTZjn-SNDOqn"
   },
   "source": [
    "**Part 5** $ p(x, y) = \n",
    "\\begin{cases} \n",
    "  \\frac{1}{15}(2x +4y) \\text{ for }0\\le x<3, 0\\lt y \\lt 1\\\\  \n",
    "  0 \\text{ otherwise.}  \n",
    "\\end{cases}$\n",
    "\n",
    "$ \\frac{1}{15}\\int 2x+4y $\n",
    "\n",
    "Set y = $\\frac{1}{2}$ and integrate between $ 0 \\leq x \\lt 2 $ \n",
    "\n",
    "$ \\frac{2}{15}\\int^2_{0} x+2\\frac{1}{2}dx$\n",
    "\n",
    "$ \\frac{2}{15}\\int^2_{0} x+1dx$\n",
    "\n",
    "$ \\frac{2}{15}| x^2+2x|^2_0x$\n",
    "\n",
    "$ \\frac{2}{15}((4+4)-0) = \\frac{8}{15}$\n",
    "\n",
    "\n"
   ]
  },
  {
   "cell_type": "markdown",
   "metadata": {
    "id": "obMw9H--39L8"
   },
   "source": [
    "# Task 4\n",
    "\n",
    "\n",
    "**Proof that the covariance matrix is symmetric**\n",
    "\n",
    "$C$ takes form:\n",
    "\n",
    "$C = E[(X-E[X])(X-E[X])^T]$\n",
    "\n",
    "$= E[X \\cdot X^T] - E[X] \\cdot E[X]^T$\n",
    "\n",
    "When transposing $C$, any entry $C_{ij}$ in $C$ becomes $C_{ji}$, hence we check whether they contain the same value:\n",
    "\n",
    "$C_{ij} = E[X_i\\cdot X_j] - E[X_i] \\cdot E[X_j]^T$\n",
    "\n",
    "$= E[X_j\\cdot X_i] - E[X_j] \\cdot E[X_i]^T$\n",
    "\n",
    "$= C_{ji}$\n",
    "\n",
    "**Proof of $ x^TCx \\geq 0 $ (positive semidefinite property)**\n",
    "\n",
    "$x^TCx = x^TE[(X-E[X])(X-E[X])^T]x = E[x^T(X-E[X])(X-E[X])^Tx] = E[Z^2] $\n",
    "\n",
    "As stated in the exercise we know that $X\\in\\mathbb{R^p}$ and $x\\in\\mathbb{R^p}$ and thus both contain only real numbers. Using this we also know that $E[X]$ is a real number and thus $Z=x^T(X-E[X])=(X-E[X])^Tx$ is also a real number scalar RV or in mathematical terms:\n",
    "\n",
    "$Z\\in\\mathbb{R^1}$\n",
    "\n",
    "The square of any real number is positive or 0 thus:\n",
    "\n",
    "$Z^2\\in\\mathbb{R_0^+}$\n",
    "\n",
    "The expected value of $Z^2$ is then\n",
    "\n",
    "$E[Z^2]\\geq0$\n",
    "\n",
    "This prooves that $x^TCx\\geq0$ and thus C is positive semi-definite.\n"
   ]
  },
  {
   "cell_type": "code",
   "execution_count": null,
   "metadata": {},
   "outputs": [],
   "source": []
  }
 ],
 "metadata": {
  "colab": {
   "collapsed_sections": [],
   "name": "assignment_1.ipynb",
   "provenance": []
  },
  "kernelspec": {
   "display_name": "Python 3 (ipykernel)",
   "language": "python",
   "name": "python3"
  },
  "language_info": {
   "codemirror_mode": {
    "name": "ipython",
    "version": 3
   },
   "file_extension": ".py",
   "mimetype": "text/x-python",
   "name": "python",
   "nbconvert_exporter": "python",
   "pygments_lexer": "ipython3",
   "version": "3.9.13"
  }
 },
 "nbformat": 4,
 "nbformat_minor": 1
}
